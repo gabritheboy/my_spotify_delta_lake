{
 "cells": [
  {
   "cell_type": "markdown",
   "metadata": {
    "application/vnd.databricks.v1+cell": {
     "cellMetadata": {},
     "inputWidgets": {},
     "nuid": "d195088e-850b-414d-afae-eeb7616fd8ee",
     "showTitle": false,
     "tableResultSettingsMap": {},
     "title": ""
    }
   },
   "source": [
    "##RIGenerazione Oauth Code"
   ]
  },
  {
   "cell_type": "code",
   "execution_count": 0,
   "metadata": {
    "application/vnd.databricks.v1+cell": {
     "cellMetadata": {
      "byteLimit": 2048000,
      "rowLimit": 10000
     },
     "inputWidgets": {},
     "nuid": "58fdc3c7-e5d3-4c2b-b126-4c4299687072",
     "showTitle": false,
     "tableResultSettingsMap": {},
     "title": ""
    }
   },
   "outputs": [],
   "source": [
    "import requests\n"
   ]
  },
  {
   "cell_type": "code",
   "execution_count": 0,
   "metadata": {
    "application/vnd.databricks.v1+cell": {
     "cellMetadata": {},
     "inputWidgets": {},
     "nuid": "e32888d9-10ef-4155-90ae-271b4926af1b",
     "showTitle": false,
     "tableResultSettingsMap": {},
     "title": ""
    }
   },
   "outputs": [],
   "source": [
    "auth_str = f\"{client_id}:{client_secret}\"\n",
    "b64_auth = base64.b64encode(auth_str.encode()).decode()\n",
    "\n",
    "resp = requests.post(\n",
    "    \"https://accounts.spotify.com/api/token\",\n",
    "    headers={\"Authorization\": f\"Basic {b64_auth}\"},\n",
    "    data={\n",
    "        \"grant_type\": \"refresh_token\",\n",
    "        \"refresh_token\": userdata.get('refresh_token')\n",
    "    }\n",
    ")\n",
    "\n",
    "auth_data= resp.json()"
   ]
  },
  {
   "cell_type": "code",
   "execution_count": 0,
   "metadata": {
    "application/vnd.databricks.v1+cell": {
     "cellMetadata": {},
     "inputWidgets": {},
     "nuid": "906c5e66-a742-48c0-bc6e-228115e9f593",
     "showTitle": false,
     "tableResultSettingsMap": {},
     "title": ""
    }
   },
   "outputs": [],
   "source": [
    "access_token = auth_data['access_token']  # incolla qui il tuo token valido\n",
    "\n",
    "headers = {\n",
    "    \"Authorization\": f\"Bearer {access_token}\"\n",
    "}\n",
    "\n",
    "response = requests.get(\n",
    "    \"https://api.spotify.com/v1/me/player/recently-played?limit=2\",\n",
    "    headers=headers\n",
    ")\n",
    "\n",
    "data = response.json()\n",
    "\n",
    "for item in data[\"items\"]:\n",
    "    track = item[\"track\"][\"name\"]\n",
    "    artist = item[\"track\"][\"artists\"][0][\"name\"]\n",
    "    played_at = item[\"played_at\"]\n",
    "    print(f\"{played_at} — {artist} — {track}\")"
   ]
  }
 ],
 "metadata": {
  "application/vnd.databricks.v1+notebook": {
   "computePreferences": null,
   "dashboards": [],
   "environmentMetadata": {
    "base_environment": "",
    "environment_version": "4"
   },
   "inputWidgetPreferences": null,
   "language": "python",
   "notebookMetadata": {
    "pythonIndentUnit": 4
   },
   "notebookName": "Ingesting Data",
   "widgets": {}
  },
  "language_info": {
   "name": "python"
  }
 },
 "nbformat": 4,
 "nbformat_minor": 0
}
