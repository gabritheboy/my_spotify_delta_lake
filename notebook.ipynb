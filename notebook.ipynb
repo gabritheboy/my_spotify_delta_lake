{
 "cells": [
  {
   "cell_type": "markdown",
   "id": "fa9deeee",
   "metadata": {},
   "source": [
    "Imprting libraries\n"
   ]
  },
  {
   "cell_type": "code",
   "execution_count": null,
   "id": "98e57e46",
   "metadata": {},
   "outputs": [],
   "source": [
    "import requests\n",
    "from dotenv import load_dotenv\n",
    "import os"
   ]
  },
  {
   "cell_type": "code",
   "execution_count": 2,
   "id": "4c6390a4",
   "metadata": {},
   "outputs": [
    {
     "name": "stdout",
     "output_type": "stream",
     "text": [
      "Fetching data from API...\n"
     ]
    }
   ],
   "source": [
    "print(\"Fetching data from API...\")"
   ]
  }
 ],
 "metadata": {
  "kernelspec": {
   "display_name": "venv",
   "language": "python",
   "name": "python3"
  },
  "language_info": {
   "codemirror_mode": {
    "name": "ipython",
    "version": 3
   },
   "file_extension": ".py",
   "mimetype": "text/x-python",
   "name": "python",
   "nbconvert_exporter": "python",
   "pygments_lexer": "ipython3",
   "version": "3.13.9"
  }
 },
 "nbformat": 4,
 "nbformat_minor": 5
}
